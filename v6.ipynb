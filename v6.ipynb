{
 "cells": [
  {
   "cell_type": "markdown",
   "metadata": {},
   "source": [
    "# <center><span style=\"color:blue\">Projet Data science</span></center>\n",
    "\n",
    "\n",
    "\n",
    "<center>NOM</center>\n",
    "<center>NOMP</center>\n",
    "<center>NOMP</center>\n",
    "<center>NOMP</center>\n",
    "\n"
   ]
  },
  {
   "cell_type": "markdown",
   "metadata": {},
   "source": [
    "## <span style=\"color:red\">  1. INTRODUCTION<span>"
   ]
  },
  {
   "cell_type": "markdown",
   "metadata": {},
   "source": [
    "### <span style=\"color:green\"> ***Présentation pour le 1er livrable*** </span>\n",
    "\n",
    "**Contexte du Projet** : TouNum, une entreprise spécialisée dans la numérisation de documents, souhaite étendre ses services en intégrant des outils de Machine Learning pour aider ses clients à classer automatiquement leurs données numérisées. Le premier objectif est de développer une solution capable de distinguer les images qui ne sont pas des photos dans un dataset d’images variées.\n",
    "\n",
    "**Objectif** : Créer une méthode de classification basée sur des réseaux de neurones pour distinguer les photos des autres types d'images (peintures, schémas, portraits, textes scannés). Cette solution permettra de faciliter la sélection automatique d’images pour des annotations futures.\n",
    "\n",
    "**Étapes de Travail** :\n",
    "\n",
    "Utilisation d'une architecture de réseau de neurones avec TensorFlow pour la classification d'images.\n",
    "Construction d’un modèle de classification capable de distinguer les photos.\n",
    "Analyse de la performance du modèle à travers des métriques comme l’accuracy et les courbes d’erreur d’entraînement/test.\n",
    "Ajustement des hyperparamètres pour améliorer le compromis biais/variance, avec des techniques comme le *dropout*, *la régularisation* et *l’early stopping*.\n",
    "\n",
    "**Livrable **: Un notebook Jupyter contenant :\n",
    "\n",
    "* Le code TensorFlow et un schéma du réseau de neurones.\n",
    "* Des graphiques montrant l'évolution de <span style=\"color:red\">**l'accuracy**</span> et de <span style=\"color:red\">**l'erreur**</span> .\n",
    "* Une analyse du compromis biais/variance et des méthodes de régularisation."
   ]
  },
  {
   "cell_type": "markdown",
   "metadata": {},
   "source": [
    "## <span style=\"color:red\">  2. ANALYSE DU BESOIN<span>"
   ]
  },
  {
   "cell_type": "markdown",
   "metadata": {},
   "source": [
    "![AnalyseBesoinn.JPG](attachment:10e047cc-d3ae-4b1a-839f-5da971256bc5.JPG)"
   ]
  },
  {
   "cell_type": "markdown",
   "metadata": {},
   "source": [
    "**À qui rend-il service ? :** Les principaux bénéficiaires sont les clients, entreprises ou individus, soumettant des photos pour traitement.\n",
    "\n",
    "**Sur quoi agit-il ? :** Le système traite les photos soumises pour les légender ou les classer.\n",
    "\n",
    "**Dans quel but ? :** L’objectif est de fournir un service automatisé de traitement d’images, incluant le nettoyage, la classification et la génération de légendes."
   ]
  },
  {
   "cell_type": "markdown",
   "metadata": {},
   "source": [
    "![ECD.JPG](attachment:af2c4abf-6114-4323-b151-7d244b5706e9.JPG)"
   ]
  },
  {
   "cell_type": "markdown",
   "metadata": {},
   "source": [
    "\n",
    "**ECD, ou Extraction de Connaissances à partir des Données**, est un processus qui vise à extraire des informations utiles à partir de grandes quantités de données. Cela inclut la collecte, le prétraitement, l’extraction de motifs à l’aide d’algorithmes, l’interprétation des résultats et leur utilisation pour la prise de décision. L’entraînement de modèles de machine learning en fait partie, mais ECD couvre également d’autres étapes essentielles."
   ]
  },
  {
   "cell_type": "markdown",
   "metadata": {},
   "source": [
    "## <span style=\"color:red\">  3. REALISATION DU PROJET<span>"
   ]
  },
  {
   "cell_type": "markdown",
   "metadata": {},
   "source": [
    "**TensorFlow** : Bibliothèque pour créer et entraîner des modèles de machine learning et deep learning.\n",
    "\n",
    "**Keras** : Interface haut niveau de TensorFlow pour construire des réseaux de neurones de manière simple.\n",
    "\n",
    "**Matplotlib** : Bibliothèque pour visualiser des données sous forme de graphiques.\n",
    "\n",
    "**NumPy**: Outil pour effectuer des calculs numériques avec des tableaux et matrices."
   ]
  },
  {
   "cell_type": "markdown",
   "metadata": {},
   "source": [
    "# Importation des bibliothèques nécessaires et vérification de la version de TensorFlow\n",
    "Cette cellule importe toutes les bibliothèques nécessaires pour la création et l'entraînement du modèle de classification d'images. Elle vérifie également que la version de TensorFlow est bien la version 2.x."
   ]
  },
  {
   "cell_type": "code",
   "execution_count": 16,
   "metadata": {},
   "outputs": [
    {
     "name": "stdout",
     "output_type": "stream",
     "text": [
      "TensorFlow Version: 2.17.0\n"
     ]
    }
   ],
   "source": [
    "# Import necessary libraries\n",
    "import tensorflow as tf\n",
    "from tensorflow.keras.models import Sequential\n",
    "from tensorflow.keras.layers import Conv2D, MaxPooling2D, Flatten, Dense, Dropout\n",
    "from tensorflow.keras.optimizers import Adam\n",
    "import matplotlib.pyplot as plt\n",
    "import numpy as np\n",
    "import os\n",
    "from tensorflow.keras.preprocessing import image_dataset_from_directory\n",
    "\n",
    "# Ensure the TensorFlow version is 2.x\n",
    "print(f'TensorFlow Version: {tf.__version__}')\n"
   ]
  },
  {
   "cell_type": "markdown",
   "metadata": {},
   "source": [
    "# Chargement des données et préparation du dataset\n",
    "Dans cette cellule, le dataset est chargé à partir d'un répertoire spécifié. Il est divisé en deux parties : *80%* pour l'entraînement et *20%* pour la validation. Les images sont redimensionnées à *64x64 pixels* et un `batch_size` de *8* est utilisé.\n"
   ]
  },
  {
   "cell_type": "code",
   "execution_count": 17,
   "metadata": {},
   "outputs": [
    {
     "name": "stdout",
     "output_type": "stream",
     "text": [
      "Found 31399 files belonging to 2 classes.\n",
      "Using 25120 files for training.\n",
      "Found 31399 files belonging to 2 classes.\n",
      "Using 6279 files for validation.\n",
      "Classes: ['Non-Photos', 'Photos']\n"
     ]
    }
   ],
   "source": [
    "# Chemin vers votre répertoire de données\n",
    "data_dir = './binary_dataset'\n",
    "\n",
    "# Parameters\n",
    "batch_size = 8  # Réduction de la taille du lot pour économiser la mémoire\n",
    "image_size = (64, 64)  # Taille des images réduite pour économiser la mémoire\n",
    "validation_split = 0.2  # 20% des données utilisées pour la validation\n",
    "AUTOTUNE = tf.data.experimental.AUTOTUNE\n",
    "\n",
    "# Load train dataset with 80% of the data\n",
    "train_dataset = image_dataset_from_directory(\n",
    "    data_dir,\n",
    "    validation_split=validation_split,\n",
    "    subset=\"training\",\n",
    "    seed=123,\n",
    "    image_size=image_size,\n",
    "    batch_size=batch_size\n",
    ")\n",
    "\n",
    "# Load validation dataset with 20% of the data\n",
    "validation_dataset = image_dataset_from_directory(\n",
    "    data_dir,\n",
    "    validation_split=validation_split,\n",
    "    subset=\"validation\",\n",
    "    seed=123,\n",
    "    image_size=image_size,\n",
    "    batch_size=batch_size\n",
    ")\n",
    "\n",
    "# Obtenez les noms des classes avant d'appliquer cache() et prefetch()\n",
    "class_names = train_dataset.class_names\n",
    "print(\"Classes:\", class_names)\n"
   ]
  },
  {
   "cell_type": "markdown",
   "metadata": {},
   "source": [
    "# Vérification des premiers batchs et labels\n",
    "Cette cellule vérifie les classes détectées dans le dataset et affiche les labels du premier lot d'images pour s'assurer que les données sont correctement chargées et étiquetées.\n"
   ]
  },
  {
   "cell_type": "code",
   "execution_count": 18,
   "metadata": {},
   "outputs": [
    {
     "name": "stdout",
     "output_type": "stream",
     "text": [
      "Classes détectées: ['Non-Photos', 'Photos']\n",
      "Images shape: (8, 64, 64, 3)\n",
      "Labels: [1 0 0 0 0 1 0 1]\n"
     ]
    }
   ],
   "source": [
    "# Vérifier les classes détectées\n",
    "print(f\"Classes détectées: {class_names}\")\n",
    "\n",
    "# Vérifier les premiers batchs pour confirmer les labels\n",
    "for images, labels in train_dataset.take(1):\n",
    "    print(f\"Images shape: {images.shape}\")\n",
    "    print(f\"Labels: {labels.numpy()}\")\n"
   ]
  },
  {
   "cell_type": "markdown",
   "metadata": {},
   "source": [
    "# Optimisation de la performance avec `cache()` et `prefetch()`\n",
    "Dans cette cellule, les datasets sont optimisés pour l'entraînement en utilisant des méthodes comme `cache()` et `prefetch()` pour améliorer les performances et réduire les temps de chargement.\n"
   ]
  },
  {
   "cell_type": "code",
   "execution_count": 19,
   "metadata": {},
   "outputs": [],
   "source": [
    "# Optimize performance with caching and prefetching\n",
    "train_dataset = train_dataset.cache().prefetch(buffer_size=AUTOTUNE)\n",
    "validation_dataset = validation_dataset.cache().prefetch(buffer_size=AUTOTUNE)\n"
   ]
  },
  {
   "cell_type": "markdown",
   "metadata": {},
   "source": [
    "# Construction du modèle de réseau de neurones\n",
    "Cette cellule définit l'architecture du modèle de réseau de neurones avec des couches convolutives, une couche de pooling, une couche dense, et du *dropout* pour éviter le surapprentissage (*overfitting*).\n"
   ]
  },
  {
   "cell_type": "markdown",
   "metadata": {},
   "source": [
    "### MODELE 1 : BASIC\n",
    "Dans ce modele, nous avons commencé avec deux couches convolutives, avec aucune technique pour éviter le surapprentissage."
   ]
  },
  {
   "cell_type": "code",
   "execution_count": 20,
   "metadata": {},
   "outputs": [
    {
     "name": "stderr",
     "output_type": "stream",
     "text": [
      "c:\\Users\\kilyion\\AppData\\Local\\Programs\\Python\\Python311\\Lib\\site-packages\\keras\\src\\layers\\core\\input_layer.py:26: UserWarning: Argument `input_shape` is deprecated. Use `shape` instead.\n",
      "  warnings.warn(\n"
     ]
    }
   ],
   "source": [
    "# Construction du modèle N°1\n",
    "model1 = Sequential([\n",
    "    tf.keras.layers.InputLayer(input_shape=(64, 64, 3)),  # Utilisation de la nouvelle taille d'image\n",
    "    tf.keras.layers.Rescaling(1./255),  # Normalisation des pixels\n",
    "    Conv2D(16, (3, 3), activation='relu'),  # Convolution layer avec 16 filtres\n",
    "    MaxPooling2D((2, 2)),\n",
    "    Conv2D(32, (3, 3), activation='relu'),  # Convolution layer avec 16 filtres\n",
    "    MaxPooling2D((2, 2)),  # Pooling layer\n",
    "    Flatten(),  # Conversion en vecteur\n",
    "    Dense(32, activation='relu'),  # Fully connected layer avec 32 neurones\n",
    "    Dense(1, activation='sigmoid')  # Sortie binaire\n",
    "])\n"
   ]
  },
  {
   "cell_type": "code",
   "execution_count": null,
   "metadata": {},
   "outputs": [],
   "source": [
    "# Entraînement du modèle\n",
    "history = model1.fit(\n",
    "    train_dataset,\n",
    "    validation_data=validation_dataset,\n",
    "    epochs=7\n",
    ")"
   ]
  },
  {
   "cell_type": "markdown",
   "metadata": {},
   "source": [
    "### MODELE 2 : AJOUT DROPOUT\n",
    "Dans cette amélioration nous avons ajouté une couche de Dropout, elle permet de desactiver pendant l'entrainement un taux défini de neuronnes,ce qui permet d'éviter le sur-apprentissage.\n"
   ]
  },
  {
   "cell_type": "code",
   "execution_count": null,
   "metadata": {},
   "outputs": [
    {
     "name": "stderr",
     "output_type": "stream",
     "text": [
      "c:\\Users\\kilyion\\AppData\\Local\\Programs\\Python\\Python311\\Lib\\site-packages\\keras\\src\\layers\\core\\input_layer.py:26: UserWarning: Argument `input_shape` is deprecated. Use `shape` instead.\n",
      "  warnings.warn(\n"
     ]
    }
   ],
   "source": [
    "# Construction du modèle N°2\n",
    "model2 = Sequential([\n",
    "    tf.keras.layers.InputLayer(input_shape=(64, 64, 3)),  # Utilisation de la nouvelle taille d'image\n",
    "    tf.keras.layers.Rescaling(1./255),  # Normalisation des pixels\n",
    "    Conv2D(16, (3, 3), activation='relu'),  # Convolution layer avec 16 filtres\n",
    "    MaxPooling2D((2, 2)),\n",
    "    Conv2D(32, (3, 3), activation='relu'),  # Convolution layer avec 16 filtres\n",
    "    MaxPooling2D((2, 2)),  # Pooling layer\n",
    "    Flatten(),  # Conversion en vecteur\n",
    "    Dense(32, activation='relu'),  # Fully connected layer avec 32 neurones\n",
    "    Dropout(0.3),  # Dropout modéré pour éviter l'overfitting\n",
    "    Dense(1, activation='sigmoid')  # Sortie binaire\n",
    "])\n"
   ]
  },
  {
   "cell_type": "code",
   "execution_count": null,
   "metadata": {},
   "outputs": [],
   "source": [
    "# Entraînement du modèle\n",
    "history = model2.fit(\n",
    "    train_dataset,\n",
    "    validation_data=validation_dataset,\n",
    "    epochs=7\n",
    "    \n",
    ")"
   ]
  },
  {
   "cell_type": "markdown",
   "metadata": {},
   "source": [
    "### MODELE 3 : SIMPLIFICATION DU MODELE\n",
    "Enfin, voici le modèle finale un peu simplifié pour mieux apprendre selon notre Datasets, nous avons ajouté des techniques pour mieux apprendre aussi dans le fit, avec un ajout de poids de classes, ce qui permet que les données d'entrainement sois mieux équilibré, il y a aussi l'ajout d'un callback qui fait en sortes de sortir les meilleurs poids de modèle et l'arrété si il y a trop de fluctuations."
   ]
  },
  {
   "cell_type": "code",
   "execution_count": null,
   "metadata": {},
   "outputs": [
    {
     "name": "stderr",
     "output_type": "stream",
     "text": [
      "c:\\Users\\kilyion\\AppData\\Local\\Programs\\Python\\Python311\\Lib\\site-packages\\keras\\src\\layers\\core\\input_layer.py:26: UserWarning: Argument `input_shape` is deprecated. Use `shape` instead.\n",
      "  warnings.warn(\n"
     ]
    }
   ],
   "source": [
    "# Construction du modèle N°3\n",
    "model = Sequential([\n",
    "    tf.keras.layers.InputLayer(input_shape=(64, 64, 3)),  # Utilisation de la nouvelle taille d'image\n",
    "    tf.keras.layers.Rescaling(1./255),  # Normalisation des pixels\n",
    "    Conv2D(16, (3, 3), activation='relu'),  # Convolution layer avec 16 filtres\n",
    "    MaxPooling2D((2, 2)),  # Pooling layer\n",
    "    Flatten(),  # Conversion en vecteur\n",
    "    Dense(32, activation='relu'),  # Fully connected layer avec 32 neurones\n",
    "    Dropout(0.3),  # Dropout modéré pour éviter l'overfitting\n",
    "    Dense(1, activation='sigmoid')  # Sortie binaire\n",
    "])\n"
   ]
  },
  {
   "cell_type": "markdown",
   "metadata": {},
   "source": [
    "# Compilation et configuration du modèle\n",
    "Dans cette cellule, le modèle est compilé avec l'optimiseur *Adam* et une fonction de perte `binary_crossentropy`. Les métriques d'*accuracy* sont également spécifiées.\n"
   ]
  },
  {
   "cell_type": "code",
   "execution_count": 21,
   "metadata": {},
   "outputs": [],
   "source": [
    "# Compile the model\n",
    "model.compile(optimizer=Adam(learning_rate=0.0001), \n",
    "              loss='binary_crossentropy', \n",
    "              metrics=['accuracy'])\n"
   ]
  },
  {
   "cell_type": "markdown",
   "metadata": {},
   "source": [
    "# Définition de l'early stopping et ajustement des poids des classes\n",
    "Cette cellule configure l'*early stopping* pour arrêter l'entraînement si la performance ne s'améliore pas après 2 epochs. Elle ajuste également la pondération des classes pour équilibrer les données si elles sont déséquilibrées.\n"
   ]
  },
  {
   "cell_type": "code",
   "execution_count": 22,
   "metadata": {},
   "outputs": [],
   "source": [
    "# Définir l'early stopping\n",
    "early_stopping = tf.keras.callbacks.EarlyStopping(\n",
    "    monitor='val_loss',\n",
    "    patience=2,  # Arrêter l'entraînement après 2 epochs sans amélioration\n",
    "    restore_best_weights=True\n",
    ")\n",
    "\n",
    "# Ajuster la pondération des classes si elles sont déséquilibrées\n",
    "class_weight = {0: 1., 1: 3.}  # Modifier les poids en fonction de la répartition des classes\n"
   ]
  },
  {
   "cell_type": "markdown",
   "metadata": {},
   "source": [
    "# Entraînement du modèle\n",
    "Dans cette cellule, le modèle est entraîné avec le dataset de formation et de validation. Le mécanisme d'*early stopping* et la pondération des classes sont utilisés pour améliorer les résultats.\n"
   ]
  },
  {
   "cell_type": "code",
   "execution_count": 23,
   "metadata": {},
   "outputs": [
    {
     "name": "stdout",
     "output_type": "stream",
     "text": [
      "Epoch 1/7\n",
      "\u001b[1m3140/3140\u001b[0m \u001b[32m━━━━━━━━━━━━━━━━━━━━\u001b[0m\u001b[37m\u001b[0m \u001b[1m16s\u001b[0m 5ms/step - accuracy: 0.8542 - loss: 0.5245 - val_accuracy: 0.9229 - val_loss: 0.1800\n",
      "Epoch 2/7\n",
      "\u001b[1m3140/3140\u001b[0m \u001b[32m━━━━━━━━━━━━━━━━━━━━\u001b[0m\u001b[37m\u001b[0m \u001b[1m11s\u001b[0m 4ms/step - accuracy: 0.9156 - loss: 0.3085 - val_accuracy: 0.9334 - val_loss: 0.1657\n",
      "Epoch 3/7\n",
      "\u001b[1m3140/3140\u001b[0m \u001b[32m━━━━━━━━━━━━━━━━━━━━\u001b[0m\u001b[37m\u001b[0m \u001b[1m11s\u001b[0m 3ms/step - accuracy: 0.9274 - loss: 0.2536 - val_accuracy: 0.9357 - val_loss: 0.1480\n",
      "Epoch 4/7\n",
      "\u001b[1m3140/3140\u001b[0m \u001b[32m━━━━━━━━━━━━━━━━━━━━\u001b[0m\u001b[37m\u001b[0m \u001b[1m11s\u001b[0m 3ms/step - accuracy: 0.9331 - loss: 0.2205 - val_accuracy: 0.9471 - val_loss: 0.1303\n",
      "Epoch 5/7\n",
      "\u001b[1m3140/3140\u001b[0m \u001b[32m━━━━━━━━━━━━━━━━━━━━\u001b[0m\u001b[37m\u001b[0m \u001b[1m11s\u001b[0m 3ms/step - accuracy: 0.9396 - loss: 0.1913 - val_accuracy: 0.9517 - val_loss: 0.1102\n",
      "Epoch 6/7\n",
      "\u001b[1m3140/3140\u001b[0m \u001b[32m━━━━━━━━━━━━━━━━━━━━\u001b[0m\u001b[37m\u001b[0m \u001b[1m11s\u001b[0m 3ms/step - accuracy: 0.9452 - loss: 0.1736 - val_accuracy: 0.9537 - val_loss: 0.1087\n",
      "Epoch 7/7\n",
      "\u001b[1m3140/3140\u001b[0m \u001b[32m━━━━━━━━━━━━━━━━━━━━\u001b[0m\u001b[37m\u001b[0m \u001b[1m11s\u001b[0m 3ms/step - accuracy: 0.9496 - loss: 0.1578 - val_accuracy: 0.9578 - val_loss: 0.0999\n"
     ]
    }
   ],
   "source": [
    "# Entraînement du modèle\n",
    "history = model.fit(\n",
    "    train_dataset,\n",
    "    validation_data=validation_dataset,\n",
    "    epochs=7,\n",
    "    class_weight=class_weight,  # Utilisation de la pondération des classes\n",
    "    callbacks=[early_stopping]\n",
    ")\n"
   ]
  },
  {
   "cell_type": "markdown",
   "metadata": {},
   "source": [
    "# Évaluation du modèle\n",
    "Cette cellule évalue le modèle sur le dataset de validation et affiche l'accuracy et la perte après l'entraînement.\n"
   ]
  },
  {
   "cell_type": "code",
   "execution_count": 24,
   "metadata": {},
   "outputs": [
    {
     "name": "stdout",
     "output_type": "stream",
     "text": [
      "785/785 - 1s - 1ms/step - accuracy: 0.9578 - loss: 0.0999\n",
      "\n",
      "Test accuracy: 0.96\n"
     ]
    }
   ],
   "source": [
    "# Évaluation du modèle\n",
    "loss, accuracy = model.evaluate(validation_dataset, verbose=2)\n",
    "print(f'\\nTest accuracy: {accuracy:.2f}')\n"
   ]
  },
  {
   "cell_type": "markdown",
   "metadata": {},
   "source": [
    "# Affichage des courbes d'entraînement et de validation\n",
    "Cette cellule génère des graphiques montrant l'évolution de l'accuracy et de la perte pour l'ensemble d'entraînement et de validation au fil des epochs.\n"
   ]
  },
  {
   "cell_type": "code",
   "execution_count": 25,
   "metadata": {},
   "outputs": [
    {
     "data": {
      "image/png": "[encoded data removed]",
      "text/plain": [
       "<Figure size 1200x700 with 2 Axes>"
      ]
     },
     "metadata": {},
     "output_type": "display_data"
    }
   ],
   "source": [
    "# Affichage des courbes d'entraînement\n",
    "acc = history.history['accuracy']\n",
    "val_acc = history.history['val_accuracy']\n",
    "loss = history.history['loss']\n",
    "val_loss = history.history['val_loss']\n",
    "\n",
    "epochs_range = range(len(acc))\n",
    "\n",
    "plt.figure(figsize=(12, 7))\n",
    "\n",
    "# Plot for Accuracy\n",
    "plt.subplot(1, 2, 1)\n",
    "plt.plot(epochs_range, acc, label='Training Accuracy', color='blue')  # Set color for training accuracy\n",
    "plt.plot(epochs_range, val_acc, label='Validation Accuracy', color='orange')  # Set color for validation accuracy\n",
    "plt.legend(loc='lower right')\n",
    "plt.title('Training and Validation Accuracy')\n",
    "\n",
    "# Plot for Loss\n",
    "plt.subplot(1, 2, 2)\n",
    "plt.plot(epochs_range, loss, label='Training Loss', color='blue')  # Set the same color as training accuracy\n",
    "plt.plot(epochs_range, val_loss, label='Validation Loss', color='orange')  # Set the same color as validation accuracy\n",
    "plt.legend(loc='upper right')\n",
    "plt.title('Training and Validation Loss')\n",
    "\n",
    "plt.show()\n"
   ]
  },
  {
   "cell_type": "markdown",
   "metadata": {},
   "source": [
    "# Matrice de confusion\n",
    "\n",
    "\n",
    "\n",
    "\n",
    "\n"
   ]
  },
  {
   "cell_type": "code",
   "execution_count": 27,
   "metadata": {},
   "outputs": [
    {
     "name": "stdout",
     "output_type": "stream",
     "text": [
      "\u001b[1m785/785\u001b[0m \u001b[32m━━━━━━━━━━━━━━━━━━━━\u001b[0m\u001b[37m\u001b[0m \u001b[1m1s\u001b[0m 1ms/step\n"
     ]
    },
    {
     "data": {
      "image/png": "[encoded data removed]",
      "text/plain": [
       "<Figure size 600x400 with 2 Axes>"
      ]
     },
     "metadata": {},
     "output_type": "display_data"
    }
   ],
   "source": [
    "from sklearn.metrics import confusion_matrix\n",
    "import seaborn as sns\n",
    "\n",
    "y_true = np.concatenate([y for x, y in validation_dataset], axis=0)\n",
    "y_pred = model.predict(validation_dataset)\n",
    "y_pred_classes = (y_pred > 0.5).astype(\"int32\")\n",
    "\n",
    "conf_matrix = confusion_matrix(y_true, y_pred_classes)\n",
    "\n",
    "plt.figure(figsize=(6, 4))\n",
    "sns.heatmap(conf_matrix, annot=True, fmt='d', cmap='Blues', xticklabels=class_names, yticklabels=class_names)\n",
    "plt.xlabel('Prédictions')\n",
    "plt.ylabel('Véritables classes')\n",
    "plt.title('Matrice de Confusion')\n",
    "plt.show()\n"
   ]
  },
  {
   "cell_type": "markdown",
   "metadata": {},
   "source": [
    "# Sauvegarde du modèle\n",
    "Cette cellule sauvegarde le modèle entraîné au format `.keras` pour une utilisation future.\n",
    "\n",
    "\n",
    "\n",
    "\n",
    "\n"
   ]
  },
  {
   "cell_type": "code",
   "execution_count": 26,
   "metadata": {},
   "outputs": [],
   "source": [
    "# Sauvegarde du modèle\n",
    "model.save('model_opti.keras')\n"
   ]
  }
 ],
 "metadata": {
  "kernelspec": {
   "display_name": "Python 3",
   "language": "python",
   "name": "python3"
  },
  "language_info": {
   "codemirror_mode": {
    "name": "ipython",
    "version": 3
   },
   "file_extension": ".py",
   "mimetype": "text/x-python",
   "name": "python",
   "nbconvert_exporter": "python",
   "pygments_lexer": "ipython3",
   "version": "3.11.8"
  }
 },
 "nbformat": 4,
 "nbformat_minor": 2
}
